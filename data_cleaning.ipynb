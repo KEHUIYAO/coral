{
 "cells": [
  {
   "cell_type": "code",
   "execution_count": 1,
   "id": "chubby-replication",
   "metadata": {},
   "outputs": [],
   "source": [
    "import pandas as pd\n",
    "import numpy as np\n",
    "import plotly.express as px"
   ]
  },
  {
   "cell_type": "code",
   "execution_count": 2,
   "id": "pharmaceutical-cedar",
   "metadata": {},
   "outputs": [
    {
     "data": {
      "text/html": [
       "<div>\n",
       "<style scoped>\n",
       "    .dataframe tbody tr th:only-of-type {\n",
       "        vertical-align: middle;\n",
       "    }\n",
       "\n",
       "    .dataframe tbody tr th {\n",
       "        vertical-align: top;\n",
       "    }\n",
       "\n",
       "    .dataframe thead th {\n",
       "        text-align: right;\n",
       "    }\n",
       "</style>\n",
       "<table border=\"1\" class=\"dataframe\">\n",
       "  <thead>\n",
       "    <tr style=\"text-align: right;\">\n",
       "      <th></th>\n",
       "      <th>date</th>\n",
       "      <th>reef</th>\n",
       "      <th>dir</th>\n",
       "      <th>channel</th>\n",
       "      <th>site</th>\n",
       "      <th>transect</th>\n",
       "      <th>coral</th>\n",
       "      <th>species</th>\n",
       "      <th>surveyor</th>\n",
       "      <th>BB</th>\n",
       "      <th>...</th>\n",
       "      <th>RMS</th>\n",
       "      <th>SA</th>\n",
       "      <th>SED</th>\n",
       "      <th>TO</th>\n",
       "      <th>UC</th>\n",
       "      <th>UD</th>\n",
       "      <th>UPM</th>\n",
       "      <th>WB</th>\n",
       "      <th>WP</th>\n",
       "      <th>&lt;NA&gt;</th>\n",
       "    </tr>\n",
       "  </thead>\n",
       "  <tbody>\n",
       "    <tr>\n",
       "      <th>0</th>\n",
       "      <td>2013-10-20</td>\n",
       "      <td>HB</td>\n",
       "      <td>N</td>\n",
       "      <td>channelside</td>\n",
       "      <td>HBN1</td>\n",
       "      <td>1</td>\n",
       "      <td>HBN1.1.1</td>\n",
       "      <td>SSID</td>\n",
       "      <td>MLR</td>\n",
       "      <td>False</td>\n",
       "      <td>...</td>\n",
       "      <td>False</td>\n",
       "      <td>False</td>\n",
       "      <td>False</td>\n",
       "      <td>False</td>\n",
       "      <td>False</td>\n",
       "      <td>False</td>\n",
       "      <td>False</td>\n",
       "      <td>False</td>\n",
       "      <td>False</td>\n",
       "      <td>True</td>\n",
       "    </tr>\n",
       "    <tr>\n",
       "      <th>1</th>\n",
       "      <td>2013-10-20</td>\n",
       "      <td>HB</td>\n",
       "      <td>N</td>\n",
       "      <td>channelside</td>\n",
       "      <td>HBN1</td>\n",
       "      <td>1</td>\n",
       "      <td>HBN1.1.2</td>\n",
       "      <td>SSID</td>\n",
       "      <td>MLR</td>\n",
       "      <td>False</td>\n",
       "      <td>...</td>\n",
       "      <td>False</td>\n",
       "      <td>False</td>\n",
       "      <td>False</td>\n",
       "      <td>False</td>\n",
       "      <td>False</td>\n",
       "      <td>False</td>\n",
       "      <td>False</td>\n",
       "      <td>False</td>\n",
       "      <td>False</td>\n",
       "      <td>False</td>\n",
       "    </tr>\n",
       "    <tr>\n",
       "      <th>2</th>\n",
       "      <td>2013-10-20</td>\n",
       "      <td>HB</td>\n",
       "      <td>N</td>\n",
       "      <td>channelside</td>\n",
       "      <td>HBN1</td>\n",
       "      <td>1</td>\n",
       "      <td>HBN1.1.3</td>\n",
       "      <td>SSID</td>\n",
       "      <td>MLR</td>\n",
       "      <td>False</td>\n",
       "      <td>...</td>\n",
       "      <td>False</td>\n",
       "      <td>False</td>\n",
       "      <td>False</td>\n",
       "      <td>False</td>\n",
       "      <td>False</td>\n",
       "      <td>False</td>\n",
       "      <td>False</td>\n",
       "      <td>False</td>\n",
       "      <td>False</td>\n",
       "      <td>True</td>\n",
       "    </tr>\n",
       "    <tr>\n",
       "      <th>3</th>\n",
       "      <td>2013-10-20</td>\n",
       "      <td>HB</td>\n",
       "      <td>N</td>\n",
       "      <td>channelside</td>\n",
       "      <td>HBN1</td>\n",
       "      <td>1</td>\n",
       "      <td>HBN1.1.4</td>\n",
       "      <td>SSID</td>\n",
       "      <td>MLR</td>\n",
       "      <td>False</td>\n",
       "      <td>...</td>\n",
       "      <td>False</td>\n",
       "      <td>True</td>\n",
       "      <td>False</td>\n",
       "      <td>False</td>\n",
       "      <td>False</td>\n",
       "      <td>False</td>\n",
       "      <td>False</td>\n",
       "      <td>False</td>\n",
       "      <td>False</td>\n",
       "      <td>False</td>\n",
       "    </tr>\n",
       "    <tr>\n",
       "      <th>4</th>\n",
       "      <td>2013-10-20</td>\n",
       "      <td>HB</td>\n",
       "      <td>N</td>\n",
       "      <td>channelside</td>\n",
       "      <td>HBN1</td>\n",
       "      <td>1</td>\n",
       "      <td>HBN1.1.5</td>\n",
       "      <td>SBOU</td>\n",
       "      <td>MLR</td>\n",
       "      <td>False</td>\n",
       "      <td>...</td>\n",
       "      <td>False</td>\n",
       "      <td>False</td>\n",
       "      <td>False</td>\n",
       "      <td>False</td>\n",
       "      <td>False</td>\n",
       "      <td>False</td>\n",
       "      <td>False</td>\n",
       "      <td>False</td>\n",
       "      <td>False</td>\n",
       "      <td>True</td>\n",
       "    </tr>\n",
       "  </tbody>\n",
       "</table>\n",
       "<p>5 rows × 38 columns</p>\n",
       "</div>"
      ],
      "text/plain": [
       "         date reef dir      channel  site  transect     coral species  \\\n",
       "0  2013-10-20   HB   N  channelside  HBN1         1  HBN1.1.1    SSID   \n",
       "1  2013-10-20   HB   N  channelside  HBN1         1  HBN1.1.2    SSID   \n",
       "2  2013-10-20   HB   N  channelside  HBN1         1  HBN1.1.3    SSID   \n",
       "3  2013-10-20   HB   N  channelside  HBN1         1  HBN1.1.4    SSID   \n",
       "4  2013-10-20   HB   N  channelside  HBN1         1  HBN1.1.5    SBOU   \n",
       "\n",
       "  surveyor     BB  ...    RMS     SA    SED     TO     UC     UD    UPM  \\\n",
       "0      MLR  False  ...  False  False  False  False  False  False  False   \n",
       "1      MLR  False  ...  False  False  False  False  False  False  False   \n",
       "2      MLR  False  ...  False  False  False  False  False  False  False   \n",
       "3      MLR  False  ...  False   True  False  False  False  False  False   \n",
       "4      MLR  False  ...  False  False  False  False  False  False  False   \n",
       "\n",
       "      WB     WP   <NA>  \n",
       "0  False  False   True  \n",
       "1  False  False  False  \n",
       "2  False  False   True  \n",
       "3  False  False  False  \n",
       "4  False  False   True  \n",
       "\n",
       "[5 rows x 38 columns]"
      ]
     },
     "execution_count": 2,
     "metadata": {},
     "output_type": "execute_result"
    }
   ],
   "source": [
    "data = pd.read_csv(\"data/tagged_coral_condition_data_2.txt\",sep = '\\t')\n",
    "data.head(5)"
   ]
  },
  {
   "cell_type": "markdown",
   "id": "second-keeping",
   "metadata": {},
   "source": [
    "#### Data rearangement\n",
    "- Remove obs with NAs in condition column.\n",
    "- Sort values by species.\n",
    "- Select the coral species with at least one case of WP.\n",
    "- Sort values by coral and survey date.\n"
   ]
  },
  {
   "cell_type": "code",
   "execution_count": 3,
   "id": "improving-level",
   "metadata": {},
   "outputs": [],
   "source": [
    "# sort values by species\n",
    "data = data.sort_values(by = ['species'])\n"
   ]
  },
  {
   "cell_type": "code",
   "execution_count": 4,
   "id": "unusual-portal",
   "metadata": {},
   "outputs": [],
   "source": [
    "# remove NAs in condition column\n",
    "data = data[data.iloc[:,-1] == False]\n",
    "#data = data.reset_index(drop=True)\n"
   ]
  },
  {
   "cell_type": "code",
   "execution_count": 5,
   "id": "phantom-genealogy",
   "metadata": {},
   "outputs": [
    {
     "data": {
      "text/html": [
       "<div>\n",
       "<style scoped>\n",
       "    .dataframe tbody tr th:only-of-type {\n",
       "        vertical-align: middle;\n",
       "    }\n",
       "\n",
       "    .dataframe tbody tr th {\n",
       "        vertical-align: top;\n",
       "    }\n",
       "\n",
       "    .dataframe thead th {\n",
       "        text-align: right;\n",
       "    }\n",
       "</style>\n",
       "<table border=\"1\" class=\"dataframe\">\n",
       "  <thead>\n",
       "    <tr style=\"text-align: right;\">\n",
       "      <th></th>\n",
       "      <th>date</th>\n",
       "      <th>reef</th>\n",
       "      <th>dir</th>\n",
       "      <th>channel</th>\n",
       "      <th>site</th>\n",
       "      <th>transect</th>\n",
       "      <th>coral</th>\n",
       "      <th>species</th>\n",
       "      <th>surveyor</th>\n",
       "      <th>BB</th>\n",
       "      <th>...</th>\n",
       "      <th>RMS</th>\n",
       "      <th>SA</th>\n",
       "      <th>SED</th>\n",
       "      <th>TO</th>\n",
       "      <th>UC</th>\n",
       "      <th>UD</th>\n",
       "      <th>UPM</th>\n",
       "      <th>WB</th>\n",
       "      <th>WP</th>\n",
       "      <th>&lt;NA&gt;</th>\n",
       "    </tr>\n",
       "  </thead>\n",
       "  <tbody>\n",
       "    <tr>\n",
       "      <th>16920</th>\n",
       "      <td>2014-10-17</td>\n",
       "      <td>R2</td>\n",
       "      <td>S</td>\n",
       "      <td>control</td>\n",
       "      <td>R2SC2</td>\n",
       "      <td>2</td>\n",
       "      <td>R2SC2.2.4</td>\n",
       "      <td>AAGA</td>\n",
       "      <td>AS</td>\n",
       "      <td>False</td>\n",
       "      <td>...</td>\n",
       "      <td>False</td>\n",
       "      <td>False</td>\n",
       "      <td>True</td>\n",
       "      <td>False</td>\n",
       "      <td>False</td>\n",
       "      <td>False</td>\n",
       "      <td>False</td>\n",
       "      <td>False</td>\n",
       "      <td>False</td>\n",
       "      <td>False</td>\n",
       "    </tr>\n",
       "    <tr>\n",
       "      <th>13111</th>\n",
       "      <td>2014-08-21</td>\n",
       "      <td>R2</td>\n",
       "      <td>S</td>\n",
       "      <td>control</td>\n",
       "      <td>R2SC2</td>\n",
       "      <td>2</td>\n",
       "      <td>R2SC2.2.4</td>\n",
       "      <td>AAGA</td>\n",
       "      <td>RF</td>\n",
       "      <td>False</td>\n",
       "      <td>...</td>\n",
       "      <td>False</td>\n",
       "      <td>False</td>\n",
       "      <td>False</td>\n",
       "      <td>False</td>\n",
       "      <td>False</td>\n",
       "      <td>False</td>\n",
       "      <td>False</td>\n",
       "      <td>False</td>\n",
       "      <td>False</td>\n",
       "      <td>False</td>\n",
       "    </tr>\n",
       "    <tr>\n",
       "      <th>19473</th>\n",
       "      <td>2015-03-17</td>\n",
       "      <td>R2</td>\n",
       "      <td>S</td>\n",
       "      <td>control</td>\n",
       "      <td>R2SC2</td>\n",
       "      <td>2</td>\n",
       "      <td>R2SC2.2.4</td>\n",
       "      <td>AAGA</td>\n",
       "      <td>AS</td>\n",
       "      <td>False</td>\n",
       "      <td>...</td>\n",
       "      <td>False</td>\n",
       "      <td>False</td>\n",
       "      <td>False</td>\n",
       "      <td>False</td>\n",
       "      <td>False</td>\n",
       "      <td>False</td>\n",
       "      <td>True</td>\n",
       "      <td>False</td>\n",
       "      <td>False</td>\n",
       "      <td>False</td>\n",
       "    </tr>\n",
       "    <tr>\n",
       "      <th>22166</th>\n",
       "      <td>2015-07-07</td>\n",
       "      <td>R2</td>\n",
       "      <td>S</td>\n",
       "      <td>control</td>\n",
       "      <td>R2SC2</td>\n",
       "      <td>2</td>\n",
       "      <td>R2SC2.2.4</td>\n",
       "      <td>AAGA</td>\n",
       "      <td>RF</td>\n",
       "      <td>False</td>\n",
       "      <td>...</td>\n",
       "      <td>False</td>\n",
       "      <td>False</td>\n",
       "      <td>False</td>\n",
       "      <td>False</td>\n",
       "      <td>False</td>\n",
       "      <td>False</td>\n",
       "      <td>False</td>\n",
       "      <td>False</td>\n",
       "      <td>False</td>\n",
       "      <td>False</td>\n",
       "    </tr>\n",
       "    <tr>\n",
       "      <th>10955</th>\n",
       "      <td>2014-07-17</td>\n",
       "      <td>R2</td>\n",
       "      <td>S</td>\n",
       "      <td>control</td>\n",
       "      <td>R2SC2</td>\n",
       "      <td>2</td>\n",
       "      <td>R2SC2.2.4</td>\n",
       "      <td>AAGA</td>\n",
       "      <td>RF</td>\n",
       "      <td>False</td>\n",
       "      <td>...</td>\n",
       "      <td>False</td>\n",
       "      <td>False</td>\n",
       "      <td>True</td>\n",
       "      <td>False</td>\n",
       "      <td>False</td>\n",
       "      <td>False</td>\n",
       "      <td>False</td>\n",
       "      <td>False</td>\n",
       "      <td>False</td>\n",
       "      <td>False</td>\n",
       "    </tr>\n",
       "    <tr>\n",
       "      <th>...</th>\n",
       "      <td>...</td>\n",
       "      <td>...</td>\n",
       "      <td>...</td>\n",
       "      <td>...</td>\n",
       "      <td>...</td>\n",
       "      <td>...</td>\n",
       "      <td>...</td>\n",
       "      <td>...</td>\n",
       "      <td>...</td>\n",
       "      <td>...</td>\n",
       "      <td>...</td>\n",
       "      <td>...</td>\n",
       "      <td>...</td>\n",
       "      <td>...</td>\n",
       "      <td>...</td>\n",
       "      <td>...</td>\n",
       "      <td>...</td>\n",
       "      <td>...</td>\n",
       "      <td>...</td>\n",
       "      <td>...</td>\n",
       "      <td>...</td>\n",
       "    </tr>\n",
       "    <tr>\n",
       "      <th>6209</th>\n",
       "      <td>2014-05-30</td>\n",
       "      <td>HB</td>\n",
       "      <td>N</td>\n",
       "      <td>channelside</td>\n",
       "      <td>HBN2</td>\n",
       "      <td>1</td>\n",
       "      <td>HBN2.1.5</td>\n",
       "      <td>SSID</td>\n",
       "      <td>MLR</td>\n",
       "      <td>False</td>\n",
       "      <td>...</td>\n",
       "      <td>False</td>\n",
       "      <td>True</td>\n",
       "      <td>False</td>\n",
       "      <td>False</td>\n",
       "      <td>False</td>\n",
       "      <td>False</td>\n",
       "      <td>False</td>\n",
       "      <td>False</td>\n",
       "      <td>False</td>\n",
       "      <td>False</td>\n",
       "    </tr>\n",
       "    <tr>\n",
       "      <th>6204</th>\n",
       "      <td>2014-05-29</td>\n",
       "      <td>HB</td>\n",
       "      <td>N</td>\n",
       "      <td>channelside</td>\n",
       "      <td>HBN2</td>\n",
       "      <td>3</td>\n",
       "      <td>HBN2.3.6</td>\n",
       "      <td>SSID</td>\n",
       "      <td>RF</td>\n",
       "      <td>False</td>\n",
       "      <td>...</td>\n",
       "      <td>False</td>\n",
       "      <td>False</td>\n",
       "      <td>False</td>\n",
       "      <td>False</td>\n",
       "      <td>False</td>\n",
       "      <td>False</td>\n",
       "      <td>False</td>\n",
       "      <td>False</td>\n",
       "      <td>False</td>\n",
       "      <td>False</td>\n",
       "    </tr>\n",
       "    <tr>\n",
       "      <th>6202</th>\n",
       "      <td>2014-05-29</td>\n",
       "      <td>HB</td>\n",
       "      <td>N</td>\n",
       "      <td>channelside</td>\n",
       "      <td>HBN2</td>\n",
       "      <td>3</td>\n",
       "      <td>HBN2.3.4</td>\n",
       "      <td>SSID</td>\n",
       "      <td>RF</td>\n",
       "      <td>False</td>\n",
       "      <td>...</td>\n",
       "      <td>False</td>\n",
       "      <td>False</td>\n",
       "      <td>False</td>\n",
       "      <td>False</td>\n",
       "      <td>False</td>\n",
       "      <td>False</td>\n",
       "      <td>False</td>\n",
       "      <td>False</td>\n",
       "      <td>False</td>\n",
       "      <td>False</td>\n",
       "    </tr>\n",
       "    <tr>\n",
       "      <th>6201</th>\n",
       "      <td>2014-05-29</td>\n",
       "      <td>HB</td>\n",
       "      <td>N</td>\n",
       "      <td>channelside</td>\n",
       "      <td>HBN2</td>\n",
       "      <td>3</td>\n",
       "      <td>HBN2.3.3</td>\n",
       "      <td>SSID</td>\n",
       "      <td>RF</td>\n",
       "      <td>False</td>\n",
       "      <td>...</td>\n",
       "      <td>False</td>\n",
       "      <td>True</td>\n",
       "      <td>False</td>\n",
       "      <td>False</td>\n",
       "      <td>False</td>\n",
       "      <td>False</td>\n",
       "      <td>False</td>\n",
       "      <td>False</td>\n",
       "      <td>False</td>\n",
       "      <td>False</td>\n",
       "    </tr>\n",
       "    <tr>\n",
       "      <th>6281</th>\n",
       "      <td>2014-05-31</td>\n",
       "      <td>HB</td>\n",
       "      <td>S</td>\n",
       "      <td>channelside</td>\n",
       "      <td>HBS1</td>\n",
       "      <td>3</td>\n",
       "      <td>HBS1.3.4</td>\n",
       "      <td>SSID</td>\n",
       "      <td>RF</td>\n",
       "      <td>False</td>\n",
       "      <td>...</td>\n",
       "      <td>False</td>\n",
       "      <td>False</td>\n",
       "      <td>True</td>\n",
       "      <td>False</td>\n",
       "      <td>False</td>\n",
       "      <td>False</td>\n",
       "      <td>False</td>\n",
       "      <td>False</td>\n",
       "      <td>False</td>\n",
       "      <td>False</td>\n",
       "    </tr>\n",
       "  </tbody>\n",
       "</table>\n",
       "<p>22348 rows × 38 columns</p>\n",
       "</div>"
      ],
      "text/plain": [
       "             date reef dir      channel   site  transect      coral species  \\\n",
       "16920  2014-10-17   R2   S      control  R2SC2         2  R2SC2.2.4    AAGA   \n",
       "13111  2014-08-21   R2   S      control  R2SC2         2  R2SC2.2.4    AAGA   \n",
       "19473  2015-03-17   R2   S      control  R2SC2         2  R2SC2.2.4    AAGA   \n",
       "22166  2015-07-07   R2   S      control  R2SC2         2  R2SC2.2.4    AAGA   \n",
       "10955  2014-07-17   R2   S      control  R2SC2         2  R2SC2.2.4    AAGA   \n",
       "...           ...  ...  ..          ...    ...       ...        ...     ...   \n",
       "6209   2014-05-30   HB   N  channelside   HBN2         1   HBN2.1.5    SSID   \n",
       "6204   2014-05-29   HB   N  channelside   HBN2         3   HBN2.3.6    SSID   \n",
       "6202   2014-05-29   HB   N  channelside   HBN2         3   HBN2.3.4    SSID   \n",
       "6201   2014-05-29   HB   N  channelside   HBN2         3   HBN2.3.3    SSID   \n",
       "6281   2014-05-31   HB   S  channelside   HBS1         3   HBS1.3.4    SSID   \n",
       "\n",
       "      surveyor     BB  ...    RMS     SA    SED     TO     UC     UD    UPM  \\\n",
       "16920       AS  False  ...  False  False   True  False  False  False  False   \n",
       "13111       RF  False  ...  False  False  False  False  False  False  False   \n",
       "19473       AS  False  ...  False  False  False  False  False  False   True   \n",
       "22166       RF  False  ...  False  False  False  False  False  False  False   \n",
       "10955       RF  False  ...  False  False   True  False  False  False  False   \n",
       "...        ...    ...  ...    ...    ...    ...    ...    ...    ...    ...   \n",
       "6209       MLR  False  ...  False   True  False  False  False  False  False   \n",
       "6204        RF  False  ...  False  False  False  False  False  False  False   \n",
       "6202        RF  False  ...  False  False  False  False  False  False  False   \n",
       "6201        RF  False  ...  False   True  False  False  False  False  False   \n",
       "6281        RF  False  ...  False  False   True  False  False  False  False   \n",
       "\n",
       "          WB     WP   <NA>  \n",
       "16920  False  False  False  \n",
       "13111  False  False  False  \n",
       "19473  False  False  False  \n",
       "22166  False  False  False  \n",
       "10955  False  False  False  \n",
       "...      ...    ...    ...  \n",
       "6209   False  False  False  \n",
       "6204   False  False  False  \n",
       "6202   False  False  False  \n",
       "6201   False  False  False  \n",
       "6281   False  False  False  \n",
       "\n",
       "[22348 rows x 38 columns]"
      ]
     },
     "execution_count": 5,
     "metadata": {},
     "output_type": "execute_result"
    }
   ],
   "source": [
    "data"
   ]
  },
  {
   "cell_type": "code",
   "execution_count": 6,
   "id": "dedicated-cannon",
   "metadata": {},
   "outputs": [],
   "source": [
    "# create an index representing the row position of the first coral of a unique species in the dataset\n",
    "temp = data.duplicated(subset = [\"species\"])\n",
    "coral_species_index = np.arange(data.shape[0])[~temp]\n",
    "\n",
    "# create a fake species index, representing the end\n",
    "coral_species_index = np.append(coral_species_index,data.shape[0])\n",
    "\n",
    "\n",
    "\n",
    "# append the coral species which experienced WP into a set\n",
    "coral_species_index_of_interest = set()\n",
    "for i in range(len(coral_species_index)-1):\n",
    "    \n",
    "    temp= data.WP.iloc[coral_species_index[i]:coral_species_index[i+1]]  \n",
    "    #if np.any(temp):\n",
    "    if np.sum(temp) > 1:\n",
    "        coral_species_index_of_interest.add(coral_species_index[i])\n",
    "\n",
    "\n",
    "coral_species_of_interest = [data.species.values[i] for i in coral_species_index_of_interest]\n",
    "coral_species_of_interest\n",
    "\n",
    "# select the coral whose species is of interest\n",
    "data = data[data.species.isin(coral_species_of_interest)]\n",
    "\n",
    "# sort the data by coral name and survey date\n",
    "data = data.sort_values(by = ['coral','date'])\n",
    "#data = data.reset_index(drop=True)"
   ]
  },
  {
   "cell_type": "markdown",
   "id": "curious-british",
   "metadata": {},
   "source": [
    "#### Create a state column\n",
    "\n",
    "- If the coral is not WP,PM/DEAD, the state is \"Healthy\".\n",
    "- If WP == True, the state is \"WP\".\n",
    "- If PM/DEAD == True, the state is \"PM/DEAD\".\n"
   ]
  },
  {
   "cell_type": "code",
   "execution_count": 7,
   "id": "received-newcastle",
   "metadata": {},
   "outputs": [
    {
     "data": {
      "text/html": [
       "<div>\n",
       "<style scoped>\n",
       "    .dataframe tbody tr th:only-of-type {\n",
       "        vertical-align: middle;\n",
       "    }\n",
       "\n",
       "    .dataframe tbody tr th {\n",
       "        vertical-align: top;\n",
       "    }\n",
       "\n",
       "    .dataframe thead th {\n",
       "        text-align: right;\n",
       "    }\n",
       "</style>\n",
       "<table border=\"1\" class=\"dataframe\">\n",
       "  <thead>\n",
       "    <tr style=\"text-align: right;\">\n",
       "      <th></th>\n",
       "      <th>date</th>\n",
       "      <th>reef</th>\n",
       "      <th>dir</th>\n",
       "      <th>channel</th>\n",
       "      <th>site</th>\n",
       "      <th>transect</th>\n",
       "      <th>coral</th>\n",
       "      <th>species</th>\n",
       "      <th>surveyor</th>\n",
       "      <th>BB</th>\n",
       "      <th>...</th>\n",
       "      <th>SA</th>\n",
       "      <th>SED</th>\n",
       "      <th>TO</th>\n",
       "      <th>UC</th>\n",
       "      <th>UD</th>\n",
       "      <th>UPM</th>\n",
       "      <th>WB</th>\n",
       "      <th>WP</th>\n",
       "      <th>&lt;NA&gt;</th>\n",
       "      <th>state</th>\n",
       "    </tr>\n",
       "  </thead>\n",
       "  <tbody>\n",
       "    <tr>\n",
       "      <th>50</th>\n",
       "      <td>2013-11-01</td>\n",
       "      <td>HB</td>\n",
       "      <td>N</td>\n",
       "      <td>channelside</td>\n",
       "      <td>HBN1</td>\n",
       "      <td>1</td>\n",
       "      <td>HBN1.1.5</td>\n",
       "      <td>SBOU</td>\n",
       "      <td>WFP</td>\n",
       "      <td>False</td>\n",
       "      <td>...</td>\n",
       "      <td>False</td>\n",
       "      <td>False</td>\n",
       "      <td>False</td>\n",
       "      <td>False</td>\n",
       "      <td>False</td>\n",
       "      <td>False</td>\n",
       "      <td>False</td>\n",
       "      <td>False</td>\n",
       "      <td>False</td>\n",
       "      <td>1</td>\n",
       "    </tr>\n",
       "    <tr>\n",
       "      <th>73</th>\n",
       "      <td>2013-11-07</td>\n",
       "      <td>HB</td>\n",
       "      <td>N</td>\n",
       "      <td>channelside</td>\n",
       "      <td>HBN1</td>\n",
       "      <td>1</td>\n",
       "      <td>HBN1.1.5</td>\n",
       "      <td>SBOU</td>\n",
       "      <td>MLR</td>\n",
       "      <td>False</td>\n",
       "      <td>...</td>\n",
       "      <td>False</td>\n",
       "      <td>False</td>\n",
       "      <td>False</td>\n",
       "      <td>False</td>\n",
       "      <td>False</td>\n",
       "      <td>False</td>\n",
       "      <td>False</td>\n",
       "      <td>False</td>\n",
       "      <td>False</td>\n",
       "      <td>1</td>\n",
       "    </tr>\n",
       "    <tr>\n",
       "      <th>2210</th>\n",
       "      <td>2013-11-25</td>\n",
       "      <td>HB</td>\n",
       "      <td>N</td>\n",
       "      <td>channelside</td>\n",
       "      <td>HBN1</td>\n",
       "      <td>1</td>\n",
       "      <td>HBN1.1.5</td>\n",
       "      <td>SBOU</td>\n",
       "      <td>JDC</td>\n",
       "      <td>False</td>\n",
       "      <td>...</td>\n",
       "      <td>False</td>\n",
       "      <td>False</td>\n",
       "      <td>False</td>\n",
       "      <td>False</td>\n",
       "      <td>False</td>\n",
       "      <td>False</td>\n",
       "      <td>False</td>\n",
       "      <td>False</td>\n",
       "      <td>False</td>\n",
       "      <td>1</td>\n",
       "    </tr>\n",
       "    <tr>\n",
       "      <th>14192</th>\n",
       "      <td>2014-09-12</td>\n",
       "      <td>HB</td>\n",
       "      <td>N</td>\n",
       "      <td>channelside</td>\n",
       "      <td>HBN1</td>\n",
       "      <td>1</td>\n",
       "      <td>HBN1.1.5</td>\n",
       "      <td>SBOU</td>\n",
       "      <td>AS</td>\n",
       "      <td>False</td>\n",
       "      <td>...</td>\n",
       "      <td>False</td>\n",
       "      <td>False</td>\n",
       "      <td>False</td>\n",
       "      <td>False</td>\n",
       "      <td>False</td>\n",
       "      <td>False</td>\n",
       "      <td>False</td>\n",
       "      <td>False</td>\n",
       "      <td>False</td>\n",
       "      <td>1</td>\n",
       "    </tr>\n",
       "    <tr>\n",
       "      <th>15187</th>\n",
       "      <td>2014-09-22</td>\n",
       "      <td>HB</td>\n",
       "      <td>N</td>\n",
       "      <td>channelside</td>\n",
       "      <td>HBN1</td>\n",
       "      <td>1</td>\n",
       "      <td>HBN1.1.5</td>\n",
       "      <td>SBOU</td>\n",
       "      <td>RF</td>\n",
       "      <td>False</td>\n",
       "      <td>...</td>\n",
       "      <td>False</td>\n",
       "      <td>False</td>\n",
       "      <td>False</td>\n",
       "      <td>False</td>\n",
       "      <td>False</td>\n",
       "      <td>False</td>\n",
       "      <td>False</td>\n",
       "      <td>False</td>\n",
       "      <td>False</td>\n",
       "      <td>1</td>\n",
       "    </tr>\n",
       "    <tr>\n",
       "      <th>20655</th>\n",
       "      <td>2015-06-23</td>\n",
       "      <td>HB</td>\n",
       "      <td>N</td>\n",
       "      <td>channelside</td>\n",
       "      <td>HBN1</td>\n",
       "      <td>1</td>\n",
       "      <td>HBN1.1.5</td>\n",
       "      <td>SBOU</td>\n",
       "      <td>RF</td>\n",
       "      <td>False</td>\n",
       "      <td>...</td>\n",
       "      <td>False</td>\n",
       "      <td>False</td>\n",
       "      <td>False</td>\n",
       "      <td>False</td>\n",
       "      <td>False</td>\n",
       "      <td>False</td>\n",
       "      <td>False</td>\n",
       "      <td>False</td>\n",
       "      <td>False</td>\n",
       "      <td>1</td>\n",
       "    </tr>\n",
       "    <tr>\n",
       "      <th>21214</th>\n",
       "      <td>2015-06-30</td>\n",
       "      <td>HB</td>\n",
       "      <td>N</td>\n",
       "      <td>channelside</td>\n",
       "      <td>HBN1</td>\n",
       "      <td>1</td>\n",
       "      <td>HBN1.1.5</td>\n",
       "      <td>SBOU</td>\n",
       "      <td>RF</td>\n",
       "      <td>False</td>\n",
       "      <td>...</td>\n",
       "      <td>True</td>\n",
       "      <td>False</td>\n",
       "      <td>False</td>\n",
       "      <td>False</td>\n",
       "      <td>False</td>\n",
       "      <td>False</td>\n",
       "      <td>False</td>\n",
       "      <td>False</td>\n",
       "      <td>False</td>\n",
       "      <td>1</td>\n",
       "    </tr>\n",
       "    <tr>\n",
       "      <th>21797</th>\n",
       "      <td>2015-07-09</td>\n",
       "      <td>HB</td>\n",
       "      <td>N</td>\n",
       "      <td>channelside</td>\n",
       "      <td>HBN1</td>\n",
       "      <td>1</td>\n",
       "      <td>HBN1.1.5</td>\n",
       "      <td>SBOU</td>\n",
       "      <td>RF</td>\n",
       "      <td>False</td>\n",
       "      <td>...</td>\n",
       "      <td>False</td>\n",
       "      <td>False</td>\n",
       "      <td>False</td>\n",
       "      <td>False</td>\n",
       "      <td>False</td>\n",
       "      <td>False</td>\n",
       "      <td>False</td>\n",
       "      <td>False</td>\n",
       "      <td>False</td>\n",
       "      <td>1</td>\n",
       "    </tr>\n",
       "    <tr>\n",
       "      <th>22444</th>\n",
       "      <td>2015-07-13</td>\n",
       "      <td>HB</td>\n",
       "      <td>N</td>\n",
       "      <td>channelside</td>\n",
       "      <td>HBN1</td>\n",
       "      <td>1</td>\n",
       "      <td>HBN1.1.5</td>\n",
       "      <td>SBOU</td>\n",
       "      <td>RF</td>\n",
       "      <td>False</td>\n",
       "      <td>...</td>\n",
       "      <td>False</td>\n",
       "      <td>False</td>\n",
       "      <td>False</td>\n",
       "      <td>False</td>\n",
       "      <td>False</td>\n",
       "      <td>False</td>\n",
       "      <td>False</td>\n",
       "      <td>False</td>\n",
       "      <td>False</td>\n",
       "      <td>1</td>\n",
       "    </tr>\n",
       "    <tr>\n",
       "      <th>9</th>\n",
       "      <td>2013-10-20</td>\n",
       "      <td>HB</td>\n",
       "      <td>N</td>\n",
       "      <td>channelside</td>\n",
       "      <td>HBN1</td>\n",
       "      <td>2</td>\n",
       "      <td>HBN1.2.1</td>\n",
       "      <td>SBOU</td>\n",
       "      <td>MLR</td>\n",
       "      <td>False</td>\n",
       "      <td>...</td>\n",
       "      <td>False</td>\n",
       "      <td>False</td>\n",
       "      <td>False</td>\n",
       "      <td>False</td>\n",
       "      <td>False</td>\n",
       "      <td>False</td>\n",
       "      <td>False</td>\n",
       "      <td>False</td>\n",
       "      <td>False</td>\n",
       "      <td>1</td>\n",
       "    </tr>\n",
       "  </tbody>\n",
       "</table>\n",
       "<p>10 rows × 39 columns</p>\n",
       "</div>"
      ],
      "text/plain": [
       "             date reef dir      channel  site  transect     coral species  \\\n",
       "50     2013-11-01   HB   N  channelside  HBN1         1  HBN1.1.5    SBOU   \n",
       "73     2013-11-07   HB   N  channelside  HBN1         1  HBN1.1.5    SBOU   \n",
       "2210   2013-11-25   HB   N  channelside  HBN1         1  HBN1.1.5    SBOU   \n",
       "14192  2014-09-12   HB   N  channelside  HBN1         1  HBN1.1.5    SBOU   \n",
       "15187  2014-09-22   HB   N  channelside  HBN1         1  HBN1.1.5    SBOU   \n",
       "20655  2015-06-23   HB   N  channelside  HBN1         1  HBN1.1.5    SBOU   \n",
       "21214  2015-06-30   HB   N  channelside  HBN1         1  HBN1.1.5    SBOU   \n",
       "21797  2015-07-09   HB   N  channelside  HBN1         1  HBN1.1.5    SBOU   \n",
       "22444  2015-07-13   HB   N  channelside  HBN1         1  HBN1.1.5    SBOU   \n",
       "9      2013-10-20   HB   N  channelside  HBN1         2  HBN1.2.1    SBOU   \n",
       "\n",
       "      surveyor     BB  ...     SA    SED     TO     UC     UD    UPM     WB  \\\n",
       "50         WFP  False  ...  False  False  False  False  False  False  False   \n",
       "73         MLR  False  ...  False  False  False  False  False  False  False   \n",
       "2210       JDC  False  ...  False  False  False  False  False  False  False   \n",
       "14192       AS  False  ...  False  False  False  False  False  False  False   \n",
       "15187       RF  False  ...  False  False  False  False  False  False  False   \n",
       "20655       RF  False  ...  False  False  False  False  False  False  False   \n",
       "21214       RF  False  ...   True  False  False  False  False  False  False   \n",
       "21797       RF  False  ...  False  False  False  False  False  False  False   \n",
       "22444       RF  False  ...  False  False  False  False  False  False  False   \n",
       "9          MLR  False  ...  False  False  False  False  False  False  False   \n",
       "\n",
       "          WP   <NA>  state  \n",
       "50     False  False      1  \n",
       "73     False  False      1  \n",
       "2210   False  False      1  \n",
       "14192  False  False      1  \n",
       "15187  False  False      1  \n",
       "20655  False  False      1  \n",
       "21214  False  False      1  \n",
       "21797  False  False      1  \n",
       "22444  False  False      1  \n",
       "9      False  False      1  \n",
       "\n",
       "[10 rows x 39 columns]"
      ]
     },
     "execution_count": 7,
     "metadata": {},
     "output_type": "execute_result"
    }
   ],
   "source": [
    "state = []\n",
    "for i in range(data.shape[0]):\n",
    "    if data.DEAD.iloc[i] == True:\n",
    "        #state.append(\"DEAD\")\n",
    "        #state.append(4)\n",
    "        state.append(3)\n",
    "        \n",
    "    elif data.PM.iloc[i] == True:\n",
    "        #state.append(\"PM\")\n",
    "        state.append(3)\n",
    "    elif data.WP.iloc[i] == True:\n",
    "        #state.append(\"WP\")\n",
    "        state.append(2)\n",
    "    else:\n",
    "        #state.append(\"HEALTHY\")\n",
    "        state.append(1)\n",
    "data[\"state\"] = state\n",
    "data.head(10)       "
   ]
  },
  {
   "cell_type": "markdown",
   "id": "willing-marina",
   "metadata": {},
   "source": [
    "#### Observe the transition patterns\n",
    "- Examine if there are abnormal transitions.\n",
    "- If the coral is PM/DEAD, we assume no transition will happend onwards."
   ]
  },
  {
   "cell_type": "code",
   "execution_count": 8,
   "id": "regulation-oakland",
   "metadata": {},
   "outputs": [],
   "source": [
    "temp = data.duplicated(subset = [\"coral\"])\n",
    "coral_index = np.arange(data.shape[0])[~temp]\n",
    "coral_index = np.append(coral_index,data.shape[0])"
   ]
  },
  {
   "cell_type": "code",
   "execution_count": 9,
   "id": "electric-hurricane",
   "metadata": {},
   "outputs": [],
   "source": [
    "#abnormal_coral_index = []\n",
    "abnormal_obs_mask = np.zeros(data.shape[0],dtype = bool)\n",
    "for i in range(len(coral_index)-1):\n",
    "    temp = data.state.iloc[coral_index[i]:coral_index[i+1]]\n",
    "    flag_DEAD = 0\n",
    "    for j in range(len(temp)):\n",
    "        # if DEAD occurs, the left will be DEAD onwards\n",
    "        #if j == \"DEAD\":\n",
    "        if flag_DEAD:\n",
    "            #if j != \"DEAD\":\n",
    "            #if temp.iloc[j] != 3:\n",
    "            #abnormal_coral_index.append(coral_index[i])\n",
    "            abnormal_obs_mask[(coral_index[i]+j):coral_index[i+1]] = 1\n",
    "            break\n",
    "        if temp.iloc[j] == 3:\n",
    "            flag_DEAD = 1\n",
    "        "
   ]
  },
  {
   "cell_type": "code",
   "execution_count": 10,
   "id": "economic-glass",
   "metadata": {},
   "outputs": [],
   "source": [
    "# remove the abnormal corals from the dataset\n",
    "#abnormal_coral = data.coral.iloc[abnormal_coral_index]\n",
    "#data = data[~data.coral.isin(abnormal_coral)]    \n",
    "#data = data.reset_index(drop=True)\n",
    "\n",
    "# we are throwing away many obs here!\n",
    "data = data[~abnormal_obs_mask]\n",
    "data = data.reset_index(drop=True)"
   ]
  },
  {
   "cell_type": "markdown",
   "id": "neural-universal",
   "metadata": {},
   "source": [
    "#### Add several columns used as covariates\n",
    "- bleaching, buried.\n",
    "- control site.\n",
    "- survey date.\n"
   ]
  },
  {
   "cell_type": "code",
   "execution_count": 11,
   "id": "higher-alignment",
   "metadata": {},
   "outputs": [
    {
     "name": "stderr",
     "output_type": "stream",
     "text": [
      "/Users/kehuiyao/Desktop/coral/venv/lib/python3.7/site-packages/pandas/core/indexing.py:1637: SettingWithCopyWarning: \n",
      "A value is trying to be set on a copy of a slice from a DataFrame\n",
      "\n",
      "See the caveats in the documentation: https://pandas.pydata.org/pandas-docs/stable/user_guide/indexing.html#returning-a-view-versus-a-copy\n",
      "  self._setitem_single_block(indexer, value, name)\n"
     ]
    }
   ],
   "source": [
    "bur_coral = []\n",
    "bl_coral = []\n",
    "for i in range(data.shape[0]):\n",
    "    if data.BL.iloc[i] or data.PB.iloc[i]:\n",
    "        bl_coral.append(1)\n",
    "    else:\n",
    "        bl_coral.append(0)\n",
    "    if data.BUR.iloc[i] or data.PBUR.iloc[i]:\n",
    "        bur_coral.append(1)\n",
    "    else:\n",
    "        bur_coral.append(0)\n",
    "        \n",
    "data['bl_coral'] = bl_coral\n",
    "data['bur_coral'] = bur_coral\n",
    "\n",
    "# add control site covariate\n",
    "data['control'] = 0\n",
    "for i in range(data.shape[0]):\n",
    "    if 'C' in data.site.iloc[i]:\n",
    "        data.control.iloc[i] = 1"
   ]
  },
  {
   "cell_type": "code",
   "execution_count": 12,
   "id": "attractive-plasma",
   "metadata": {},
   "outputs": [],
   "source": [
    "data.date = pd.to_datetime(data.date)\n"
   ]
  },
  {
   "cell_type": "code",
   "execution_count": 13,
   "id": "surface-recipient",
   "metadata": {},
   "outputs": [],
   "source": [
    "months = []\n",
    "temp = data.duplicated(subset = [\"coral\"])\n",
    "coral_index = np.arange(data.shape[0])[~temp]\n",
    "coral_index = np.append(coral_index,data.shape[0])\n",
    "\n",
    "\n",
    "for i in range(len(coral_index)-1):\n",
    "    temp = data.date.iloc[coral_index[i]:coral_index[i+1]]\n",
    "    start_date = data.date.iloc[coral_index[i]]\n",
    "    for j in temp:\n",
    "        months.append((j - start_date)/np.timedelta64(1, 'M'))\n",
    "data['months'] = months"
   ]
  },
  {
   "cell_type": "markdown",
   "id": "humanitarian-fault",
   "metadata": {},
   "source": [
    "#### Make an assumption: if a coral is buried or bleaching at some time, it never recovers in its lifetime in the survey"
   ]
  },
  {
   "cell_type": "code",
   "execution_count": 14,
   "id": "short-split",
   "metadata": {},
   "outputs": [],
   "source": [
    "# temp = data.duplicated(subset = [\"coral\"])\n",
    "# coral_index = np.arange(data.shape[0])[~temp]\n",
    "# coral_index = np.append(coral_index,data.shape[0])\n",
    "\n",
    "# for i in range(len(coral_index)-1):\n",
    "#     for j in range(coral_index[i],coral_index[i+1]):\n",
    "#         if data.bur_coral.iloc[j] == 1:\n",
    "#             data.bur_coral.iloc[(j+1):coral_index[i+1]] = 1\n",
    "#             break\n",
    "#     for j in range(coral_index[i],coral_index[i+1]):\n",
    "#         if data.bl_coral.iloc[j] == 1:\n",
    "#             data.bl_coral[(j+1):coral_index[i+1]] = 1\n",
    "#             break\n",
    "\n",
    "\n",
    "# if there is one case of buried, set bur_coral = 1\n",
    "\n",
    "# temp = data.duplicated(subset = [\"coral\"])\n",
    "# coral_index = np.arange(data.shape[0])[~temp]\n",
    "# coral_index = np.append(coral_index,data.shape[0])\n",
    "\n",
    "# for i in range(len(coral_index)-1):\n",
    "#     for j in range(coral_index[i],coral_index[i+1]):\n",
    "#         if data.bur_coral.iloc[j] == 1:\n",
    "#             data.bur_coral.iloc[coral_index[i]:coral_index[i+1]] = 1\n",
    "#             break\n",
    "#     for j in range(coral_index[i],coral_index[i+1]):\n",
    "#         if data.bl_coral.iloc[j] == 1:\n",
    "#             data.bl_coral[coral_index[i]:coral_index[i+1]] = 1\n",
    "#             break"
   ]
  },
  {
   "cell_type": "markdown",
   "id": "dependent-newport",
   "metadata": {},
   "source": [
    "#### How many buried observations and bleaching observations in total"
   ]
  },
  {
   "cell_type": "code",
   "execution_count": 15,
   "id": "pressed-prefix",
   "metadata": {},
   "outputs": [
    {
     "name": "stdout",
     "output_type": "stream",
     "text": [
      "Total number of bleaching obs is 431\n",
      "Total number of buried obs is 1175\n"
     ]
    }
   ],
   "source": [
    "print(\"Total number of bleaching obs is %d\"%np.sum(data.bl_coral))\n",
    "print(\"Total number of buried obs is %d\"%np.sum(data.bur_coral))"
   ]
  },
  {
   "cell_type": "markdown",
   "id": "collective-alpha",
   "metadata": {},
   "source": [
    "#### Time distribution when some transition happens\n",
    "- Healthy to WP\n",
    "- Healthy to DEAD"
   ]
  },
  {
   "cell_type": "code",
   "execution_count": 27,
   "id": "freelance-seminar",
   "metadata": {},
   "outputs": [
    {
     "data": {
      "application/vnd.plotly.v1+json": {
       "config": {
        "plotlyServerURL": "https://plot.ly"
       },
       "data": [
        {
         "alignmentgroup": "True",
         "bingroup": "x",
         "hovertemplate": "variable=months<br>time (months)=%{x}<br>count=%{y}<extra></extra>",
         "legendgroup": "months",
         "marker": {
          "color": "#636efa"
         },
         "name": "months",
         "offsetgroup": "months",
         "orientation": "v",
         "showlegend": true,
         "type": "histogram",
         "x": [
          10.743547095422905,
          7.688042875623729,
          3.6140372492248303,
          4.599683771740692,
          5.421055873837245,
          6.143863323682211,
          4.566828887656831,
          6.538121932688556,
          5.946734019179039,
          7.720897759707592,
          7.030945193946487,
          10.250723834164972,
          5.585330294256556,
          6.965235425778763,
          6.538121932688556,
          10.250723834164972,
          5.848169366927452,
          16.394587157847184,
          33.84053060637795,
          6.340992628185384,
          10.67783732725518,
          10.67783732725518,
          6.735251237191728,
          6.078153555514487,
          19.28581695722705,
          5.585330294256556,
          32.52633524302347,
          6.242427975933797,
          8.837963818558903,
          4.23828004681821,
          4.993942380747038,
          4.566828887656831,
          6.472412164520832,
          8.837963818558903,
          7.195219614365798,
          7.1623647302819355,
          3.0883591038830365,
          5.453910757921107,
          10.579272675003594,
          19.64722068214953,
          8.673689398139592,
          3.0883591038830365,
          7.096654962114211,
          7.359494034785109,
          5.453910757921107,
          5.322491221585659,
          5.453910757921107,
          5.289636337501797,
          6.373847512269246,
          4.9610874966631755,
          7.556623339288281,
          5.322491221585659,
          6.012443787346763,
          5.322491221585659,
          6.012443787346763,
          4.3696995831536585,
          15.770344360253803,
          3.3840530606377954,
          3.7126019014764164,
          4.205425162734348,
          5.322491221585659,
          4.271134930902072,
          6.012443787346763,
          18.924413232304566,
          5.322491221585659,
          5.092507032998625,
          7.195219614365798,
          4.271134930902072,
          4.763958192160003,
          4.271134930902072,
          2.3326967699542087,
          4.829667960327727,
          4.271134930902072,
          6.012443787346763,
          9.133657775313662,
          4.993942380747038,
          5.322491221585659,
          20.1071890593236,
          7.688042875623729,
          5.453910757921107,
          6.012443787346763,
          18.924413232304566,
          5.322491221585659,
          6.012443787346763,
          8.246575905049385,
          5.322491221585659,
          18.891558348220702,
          32.460625474855746,
          6.505267048604694,
          9.067948007145937,
          18.891558348220702,
          20.008624407072013,
          2.891229799379864,
          6.143863323682211,
          6.078153555514487,
          9.199367543481385,
          6.899525657611039,
          7.523768455204419,
          10.874966631758353,
          7.556623339288281,
          8.049446600546213,
          11.827758270190353,
          8.377995441384833,
          9.626481036571592,
          7.195219614365798,
          15.441795519415184,
          9.002238238978213,
          7.359494034785109,
          7.85231729604304,
          8.34514055730097,
          10.84211174767449,
          8.180866136881662,
          8.180866136881662,
          8.049446600546213,
          9.232222427565247,
          10.152159181913387,
          9.002238238978213,
          4.829667960327727,
          7.688042875623729,
          11.79490338610649,
          7.1623647302819355,
          6.768106121275591,
          7.195219614365798,
          8.64083451405573,
          6.768106121275591,
          7.490913571120557,
          6.768106121275591,
          6.768106121275591,
          6.768106121275591,
          7.490913571120557,
          18.49729973921436,
          12.419146183699871,
          3.3511981765539334,
          7.1623647302819355,
          19.515801145814084,
          32.296351054436435,
          13.470502474383457,
          13.470502474383457,
          19.48294626173022,
          13.470502474383457,
          5.81531448284359,
          7.129509846198074,
          12.649130372286905,
          9.560771268403869,
          9.396496847984558,
          8.772254050391178,
          7.260929382533522,
          7.4580586870366945,
          9.166512659397524,
          8.969383354894351,
          8.936528470810488,
          7.85231729604304,
          6.669541469024004,
          8.47656009363642,
          7.2280744984496605,
          8.969383354894351,
          11.203515472596973,
          8.410850325468695,
          8.837963818558903,
          6.899525657611039,
          7.2280744984496605,
          6.669541469024004,
          33.7091110700425,
          7.096654962114211,
          18.957268116388427,
          10.973531284009939,
          5.552475410172693,
          7.523768455204419,
          5.289636337501797,
          8.903673586726628,
          8.115156368713937,
          13.634776894802767,
          33.7091110700425,
          13.634776894802767,
          14.489003880983182,
          1.9055832768640013,
          10.84211174767449,
          11.269225240764698,
          10.38214337050042,
          3.1540688720507606,
          9.42935173206842,
          3.1540688720507606,
          8.279430789133247,
          3.1540688720507606,
          7.096654962114211,
          9.42935173206842,
          16.65742623051808,
          6.406702396353108,
          8.47656009363642,
          10.480708022752006,
          8.049446600546213,
          26.283907267089674,
          0.29569395675475885,
          6.308137744101521,
          10.414998254584283,
          16.723135998685805,
          18.33302531879505,
          19.252962073143184,
          16.723135998685805,
          16.69028111460194,
          32.559190127107335,
          3.5483274810571057,
          6.800961005359453,
          10.447853138668146,
          13.864761083389803,
          0.4271134930902072,
          6.406702396353108,
          8.509414977720281,
          8.509414977720281,
          14.718988069570218,
          14.456148996899321,
          10.447853138668146,
          16.65742623051808,
          8.509414977720281,
          0.5256781453417935,
          12.25487176328056,
          6.078153555514487,
          14.718988069570218,
          6.669541469024004
         ],
         "xaxis": "x",
         "yaxis": "y"
        }
       ],
       "layout": {
        "barmode": "relative",
        "legend": {
         "title": {
          "text": "variable"
         },
         "tracegroupgap": 0
        },
        "margin": {
         "t": 60
        },
        "template": {
         "data": {
          "bar": [
           {
            "error_x": {
             "color": "#2a3f5f"
            },
            "error_y": {
             "color": "#2a3f5f"
            },
            "marker": {
             "line": {
              "color": "#E5ECF6",
              "width": 0.5
             }
            },
            "type": "bar"
           }
          ],
          "barpolar": [
           {
            "marker": {
             "line": {
              "color": "#E5ECF6",
              "width": 0.5
             }
            },
            "type": "barpolar"
           }
          ],
          "carpet": [
           {
            "aaxis": {
             "endlinecolor": "#2a3f5f",
             "gridcolor": "white",
             "linecolor": "white",
             "minorgridcolor": "white",
             "startlinecolor": "#2a3f5f"
            },
            "baxis": {
             "endlinecolor": "#2a3f5f",
             "gridcolor": "white",
             "linecolor": "white",
             "minorgridcolor": "white",
             "startlinecolor": "#2a3f5f"
            },
            "type": "carpet"
           }
          ],
          "choropleth": [
           {
            "colorbar": {
             "outlinewidth": 0,
             "ticks": ""
            },
            "type": "choropleth"
           }
          ],
          "contour": [
           {
            "colorbar": {
             "outlinewidth": 0,
             "ticks": ""
            },
            "colorscale": [
             [
              0,
              "#0d0887"
             ],
             [
              0.1111111111111111,
              "#46039f"
             ],
             [
              0.2222222222222222,
              "#7201a8"
             ],
             [
              0.3333333333333333,
              "#9c179e"
             ],
             [
              0.4444444444444444,
              "#bd3786"
             ],
             [
              0.5555555555555556,
              "#d8576b"
             ],
             [
              0.6666666666666666,
              "#ed7953"
             ],
             [
              0.7777777777777778,
              "#fb9f3a"
             ],
             [
              0.8888888888888888,
              "#fdca26"
             ],
             [
              1,
              "#f0f921"
             ]
            ],
            "type": "contour"
           }
          ],
          "contourcarpet": [
           {
            "colorbar": {
             "outlinewidth": 0,
             "ticks": ""
            },
            "type": "contourcarpet"
           }
          ],
          "heatmap": [
           {
            "colorbar": {
             "outlinewidth": 0,
             "ticks": ""
            },
            "colorscale": [
             [
              0,
              "#0d0887"
             ],
             [
              0.1111111111111111,
              "#46039f"
             ],
             [
              0.2222222222222222,
              "#7201a8"
             ],
             [
              0.3333333333333333,
              "#9c179e"
             ],
             [
              0.4444444444444444,
              "#bd3786"
             ],
             [
              0.5555555555555556,
              "#d8576b"
             ],
             [
              0.6666666666666666,
              "#ed7953"
             ],
             [
              0.7777777777777778,
              "#fb9f3a"
             ],
             [
              0.8888888888888888,
              "#fdca26"
             ],
             [
              1,
              "#f0f921"
             ]
            ],
            "type": "heatmap"
           }
          ],
          "heatmapgl": [
           {
            "colorbar": {
             "outlinewidth": 0,
             "ticks": ""
            },
            "colorscale": [
             [
              0,
              "#0d0887"
             ],
             [
              0.1111111111111111,
              "#46039f"
             ],
             [
              0.2222222222222222,
              "#7201a8"
             ],
             [
              0.3333333333333333,
              "#9c179e"
             ],
             [
              0.4444444444444444,
              "#bd3786"
             ],
             [
              0.5555555555555556,
              "#d8576b"
             ],
             [
              0.6666666666666666,
              "#ed7953"
             ],
             [
              0.7777777777777778,
              "#fb9f3a"
             ],
             [
              0.8888888888888888,
              "#fdca26"
             ],
             [
              1,
              "#f0f921"
             ]
            ],
            "type": "heatmapgl"
           }
          ],
          "histogram": [
           {
            "marker": {
             "colorbar": {
              "outlinewidth": 0,
              "ticks": ""
             }
            },
            "type": "histogram"
           }
          ],
          "histogram2d": [
           {
            "colorbar": {
             "outlinewidth": 0,
             "ticks": ""
            },
            "colorscale": [
             [
              0,
              "#0d0887"
             ],
             [
              0.1111111111111111,
              "#46039f"
             ],
             [
              0.2222222222222222,
              "#7201a8"
             ],
             [
              0.3333333333333333,
              "#9c179e"
             ],
             [
              0.4444444444444444,
              "#bd3786"
             ],
             [
              0.5555555555555556,
              "#d8576b"
             ],
             [
              0.6666666666666666,
              "#ed7953"
             ],
             [
              0.7777777777777778,
              "#fb9f3a"
             ],
             [
              0.8888888888888888,
              "#fdca26"
             ],
             [
              1,
              "#f0f921"
             ]
            ],
            "type": "histogram2d"
           }
          ],
          "histogram2dcontour": [
           {
            "colorbar": {
             "outlinewidth": 0,
             "ticks": ""
            },
            "colorscale": [
             [
              0,
              "#0d0887"
             ],
             [
              0.1111111111111111,
              "#46039f"
             ],
             [
              0.2222222222222222,
              "#7201a8"
             ],
             [
              0.3333333333333333,
              "#9c179e"
             ],
             [
              0.4444444444444444,
              "#bd3786"
             ],
             [
              0.5555555555555556,
              "#d8576b"
             ],
             [
              0.6666666666666666,
              "#ed7953"
             ],
             [
              0.7777777777777778,
              "#fb9f3a"
             ],
             [
              0.8888888888888888,
              "#fdca26"
             ],
             [
              1,
              "#f0f921"
             ]
            ],
            "type": "histogram2dcontour"
           }
          ],
          "mesh3d": [
           {
            "colorbar": {
             "outlinewidth": 0,
             "ticks": ""
            },
            "type": "mesh3d"
           }
          ],
          "parcoords": [
           {
            "line": {
             "colorbar": {
              "outlinewidth": 0,
              "ticks": ""
             }
            },
            "type": "parcoords"
           }
          ],
          "pie": [
           {
            "automargin": true,
            "type": "pie"
           }
          ],
          "scatter": [
           {
            "marker": {
             "colorbar": {
              "outlinewidth": 0,
              "ticks": ""
             }
            },
            "type": "scatter"
           }
          ],
          "scatter3d": [
           {
            "line": {
             "colorbar": {
              "outlinewidth": 0,
              "ticks": ""
             }
            },
            "marker": {
             "colorbar": {
              "outlinewidth": 0,
              "ticks": ""
             }
            },
            "type": "scatter3d"
           }
          ],
          "scattercarpet": [
           {
            "marker": {
             "colorbar": {
              "outlinewidth": 0,
              "ticks": ""
             }
            },
            "type": "scattercarpet"
           }
          ],
          "scattergeo": [
           {
            "marker": {
             "colorbar": {
              "outlinewidth": 0,
              "ticks": ""
             }
            },
            "type": "scattergeo"
           }
          ],
          "scattergl": [
           {
            "marker": {
             "colorbar": {
              "outlinewidth": 0,
              "ticks": ""
             }
            },
            "type": "scattergl"
           }
          ],
          "scattermapbox": [
           {
            "marker": {
             "colorbar": {
              "outlinewidth": 0,
              "ticks": ""
             }
            },
            "type": "scattermapbox"
           }
          ],
          "scatterpolar": [
           {
            "marker": {
             "colorbar": {
              "outlinewidth": 0,
              "ticks": ""
             }
            },
            "type": "scatterpolar"
           }
          ],
          "scatterpolargl": [
           {
            "marker": {
             "colorbar": {
              "outlinewidth": 0,
              "ticks": ""
             }
            },
            "type": "scatterpolargl"
           }
          ],
          "scatterternary": [
           {
            "marker": {
             "colorbar": {
              "outlinewidth": 0,
              "ticks": ""
             }
            },
            "type": "scatterternary"
           }
          ],
          "surface": [
           {
            "colorbar": {
             "outlinewidth": 0,
             "ticks": ""
            },
            "colorscale": [
             [
              0,
              "#0d0887"
             ],
             [
              0.1111111111111111,
              "#46039f"
             ],
             [
              0.2222222222222222,
              "#7201a8"
             ],
             [
              0.3333333333333333,
              "#9c179e"
             ],
             [
              0.4444444444444444,
              "#bd3786"
             ],
             [
              0.5555555555555556,
              "#d8576b"
             ],
             [
              0.6666666666666666,
              "#ed7953"
             ],
             [
              0.7777777777777778,
              "#fb9f3a"
             ],
             [
              0.8888888888888888,
              "#fdca26"
             ],
             [
              1,
              "#f0f921"
             ]
            ],
            "type": "surface"
           }
          ],
          "table": [
           {
            "cells": {
             "fill": {
              "color": "#EBF0F8"
             },
             "line": {
              "color": "white"
             }
            },
            "header": {
             "fill": {
              "color": "#C8D4E3"
             },
             "line": {
              "color": "white"
             }
            },
            "type": "table"
           }
          ]
         },
         "layout": {
          "annotationdefaults": {
           "arrowcolor": "#2a3f5f",
           "arrowhead": 0,
           "arrowwidth": 1
          },
          "autotypenumbers": "strict",
          "coloraxis": {
           "colorbar": {
            "outlinewidth": 0,
            "ticks": ""
           }
          },
          "colorscale": {
           "diverging": [
            [
             0,
             "#8e0152"
            ],
            [
             0.1,
             "#c51b7d"
            ],
            [
             0.2,
             "#de77ae"
            ],
            [
             0.3,
             "#f1b6da"
            ],
            [
             0.4,
             "#fde0ef"
            ],
            [
             0.5,
             "#f7f7f7"
            ],
            [
             0.6,
             "#e6f5d0"
            ],
            [
             0.7,
             "#b8e186"
            ],
            [
             0.8,
             "#7fbc41"
            ],
            [
             0.9,
             "#4d9221"
            ],
            [
             1,
             "#276419"
            ]
           ],
           "sequential": [
            [
             0,
             "#0d0887"
            ],
            [
             0.1111111111111111,
             "#46039f"
            ],
            [
             0.2222222222222222,
             "#7201a8"
            ],
            [
             0.3333333333333333,
             "#9c179e"
            ],
            [
             0.4444444444444444,
             "#bd3786"
            ],
            [
             0.5555555555555556,
             "#d8576b"
            ],
            [
             0.6666666666666666,
             "#ed7953"
            ],
            [
             0.7777777777777778,
             "#fb9f3a"
            ],
            [
             0.8888888888888888,
             "#fdca26"
            ],
            [
             1,
             "#f0f921"
            ]
           ],
           "sequentialminus": [
            [
             0,
             "#0d0887"
            ],
            [
             0.1111111111111111,
             "#46039f"
            ],
            [
             0.2222222222222222,
             "#7201a8"
            ],
            [
             0.3333333333333333,
             "#9c179e"
            ],
            [
             0.4444444444444444,
             "#bd3786"
            ],
            [
             0.5555555555555556,
             "#d8576b"
            ],
            [
             0.6666666666666666,
             "#ed7953"
            ],
            [
             0.7777777777777778,
             "#fb9f3a"
            ],
            [
             0.8888888888888888,
             "#fdca26"
            ],
            [
             1,
             "#f0f921"
            ]
           ]
          },
          "colorway": [
           "#636efa",
           "#EF553B",
           "#00cc96",
           "#ab63fa",
           "#FFA15A",
           "#19d3f3",
           "#FF6692",
           "#B6E880",
           "#FF97FF",
           "#FECB52"
          ],
          "font": {
           "color": "#2a3f5f"
          },
          "geo": {
           "bgcolor": "white",
           "lakecolor": "white",
           "landcolor": "#E5ECF6",
           "showlakes": true,
           "showland": true,
           "subunitcolor": "white"
          },
          "hoverlabel": {
           "align": "left"
          },
          "hovermode": "closest",
          "mapbox": {
           "style": "light"
          },
          "paper_bgcolor": "white",
          "plot_bgcolor": "#E5ECF6",
          "polar": {
           "angularaxis": {
            "gridcolor": "white",
            "linecolor": "white",
            "ticks": ""
           },
           "bgcolor": "#E5ECF6",
           "radialaxis": {
            "gridcolor": "white",
            "linecolor": "white",
            "ticks": ""
           }
          },
          "scene": {
           "xaxis": {
            "backgroundcolor": "#E5ECF6",
            "gridcolor": "white",
            "gridwidth": 2,
            "linecolor": "white",
            "showbackground": true,
            "ticks": "",
            "zerolinecolor": "white"
           },
           "yaxis": {
            "backgroundcolor": "#E5ECF6",
            "gridcolor": "white",
            "gridwidth": 2,
            "linecolor": "white",
            "showbackground": true,
            "ticks": "",
            "zerolinecolor": "white"
           },
           "zaxis": {
            "backgroundcolor": "#E5ECF6",
            "gridcolor": "white",
            "gridwidth": 2,
            "linecolor": "white",
            "showbackground": true,
            "ticks": "",
            "zerolinecolor": "white"
           }
          },
          "shapedefaults": {
           "line": {
            "color": "#2a3f5f"
           }
          },
          "ternary": {
           "aaxis": {
            "gridcolor": "white",
            "linecolor": "white",
            "ticks": ""
           },
           "baxis": {
            "gridcolor": "white",
            "linecolor": "white",
            "ticks": ""
           },
           "bgcolor": "#E5ECF6",
           "caxis": {
            "gridcolor": "white",
            "linecolor": "white",
            "ticks": ""
           }
          },
          "title": {
           "x": 0.05
          },
          "xaxis": {
           "automargin": true,
           "gridcolor": "white",
           "linecolor": "white",
           "ticks": "",
           "title": {
            "standoff": 15
           },
           "zerolinecolor": "white",
           "zerolinewidth": 2
          },
          "yaxis": {
           "automargin": true,
           "gridcolor": "white",
           "linecolor": "white",
           "ticks": "",
           "title": {
            "standoff": 15
           },
           "zerolinecolor": "white",
           "zerolinewidth": 2
          }
         }
        },
        "xaxis": {
         "anchor": "y",
         "domain": [
          0,
          1
         ],
         "title": {
          "text": "time (months)"
         }
        },
        "yaxis": {
         "anchor": "x",
         "domain": [
          0,
          1
         ],
         "title": {
          "text": "count"
         }
        }
       }
      },
      "text/html": [
       "<div>                            <div id=\"27f8ec55-0526-4593-8f23-b0b2bdd8389e\" class=\"plotly-graph-div\" style=\"height:525px; width:100%;\"></div>            <script type=\"text/javascript\">                require([\"plotly\"], function(Plotly) {                    window.PLOTLYENV=window.PLOTLYENV || {};                                    if (document.getElementById(\"27f8ec55-0526-4593-8f23-b0b2bdd8389e\")) {                    Plotly.newPlot(                        \"27f8ec55-0526-4593-8f23-b0b2bdd8389e\",                        [{\"alignmentgroup\": \"True\", \"bingroup\": \"x\", \"hovertemplate\": \"variable=months<br>time (months)=%{x}<br>count=%{y}<extra></extra>\", \"legendgroup\": \"months\", \"marker\": {\"color\": \"#636efa\"}, \"name\": \"months\", \"offsetgroup\": \"months\", \"orientation\": \"v\", \"showlegend\": true, \"type\": \"histogram\", \"x\": [10.743547095422905, 7.688042875623729, 3.6140372492248303, 4.599683771740692, 5.421055873837245, 6.143863323682211, 4.566828887656831, 6.538121932688556, 5.946734019179039, 7.720897759707592, 7.030945193946487, 10.250723834164972, 5.585330294256556, 6.965235425778763, 6.538121932688556, 10.250723834164972, 5.848169366927452, 16.394587157847184, 33.84053060637795, 6.340992628185384, 10.67783732725518, 10.67783732725518, 6.735251237191728, 6.078153555514487, 19.28581695722705, 5.585330294256556, 32.52633524302347, 6.242427975933797, 8.837963818558903, 4.23828004681821, 4.993942380747038, 4.566828887656831, 6.472412164520832, 8.837963818558903, 7.195219614365798, 7.1623647302819355, 3.0883591038830365, 5.453910757921107, 10.579272675003594, 19.64722068214953, 8.673689398139592, 3.0883591038830365, 7.096654962114211, 7.359494034785109, 5.453910757921107, 5.322491221585659, 5.453910757921107, 5.289636337501797, 6.373847512269246, 4.9610874966631755, 7.556623339288281, 5.322491221585659, 6.012443787346763, 5.322491221585659, 6.012443787346763, 4.3696995831536585, 15.770344360253803, 3.3840530606377954, 3.7126019014764164, 4.205425162734348, 5.322491221585659, 4.271134930902072, 6.012443787346763, 18.924413232304566, 5.322491221585659, 5.092507032998625, 7.195219614365798, 4.271134930902072, 4.763958192160003, 4.271134930902072, 2.3326967699542087, 4.829667960327727, 4.271134930902072, 6.012443787346763, 9.133657775313662, 4.993942380747038, 5.322491221585659, 20.1071890593236, 7.688042875623729, 5.453910757921107, 6.012443787346763, 18.924413232304566, 5.322491221585659, 6.012443787346763, 8.246575905049385, 5.322491221585659, 18.891558348220702, 32.460625474855746, 6.505267048604694, 9.067948007145937, 18.891558348220702, 20.008624407072013, 2.891229799379864, 6.143863323682211, 6.078153555514487, 9.199367543481385, 6.899525657611039, 7.523768455204419, 10.874966631758353, 7.556623339288281, 8.049446600546213, 11.827758270190353, 8.377995441384833, 9.626481036571592, 7.195219614365798, 15.441795519415184, 9.002238238978213, 7.359494034785109, 7.85231729604304, 8.34514055730097, 10.84211174767449, 8.180866136881662, 8.180866136881662, 8.049446600546213, 9.232222427565247, 10.152159181913387, 9.002238238978213, 4.829667960327727, 7.688042875623729, 11.79490338610649, 7.1623647302819355, 6.768106121275591, 7.195219614365798, 8.64083451405573, 6.768106121275591, 7.490913571120557, 6.768106121275591, 6.768106121275591, 6.768106121275591, 7.490913571120557, 18.49729973921436, 12.419146183699871, 3.3511981765539334, 7.1623647302819355, 19.515801145814084, 32.296351054436435, 13.470502474383457, 13.470502474383457, 19.48294626173022, 13.470502474383457, 5.81531448284359, 7.129509846198074, 12.649130372286905, 9.560771268403869, 9.396496847984558, 8.772254050391178, 7.260929382533522, 7.4580586870366945, 9.166512659397524, 8.969383354894351, 8.936528470810488, 7.85231729604304, 6.669541469024004, 8.47656009363642, 7.2280744984496605, 8.969383354894351, 11.203515472596973, 8.410850325468695, 8.837963818558903, 6.899525657611039, 7.2280744984496605, 6.669541469024004, 33.7091110700425, 7.096654962114211, 18.957268116388427, 10.973531284009939, 5.552475410172693, 7.523768455204419, 5.289636337501797, 8.903673586726628, 8.115156368713937, 13.634776894802767, 33.7091110700425, 13.634776894802767, 14.489003880983182, 1.9055832768640013, 10.84211174767449, 11.269225240764698, 10.38214337050042, 3.1540688720507606, 9.42935173206842, 3.1540688720507606, 8.279430789133247, 3.1540688720507606, 7.096654962114211, 9.42935173206842, 16.65742623051808, 6.406702396353108, 8.47656009363642, 10.480708022752006, 8.049446600546213, 26.283907267089674, 0.29569395675475885, 6.308137744101521, 10.414998254584283, 16.723135998685805, 18.33302531879505, 19.252962073143184, 16.723135998685805, 16.69028111460194, 32.559190127107335, 3.5483274810571057, 6.800961005359453, 10.447853138668146, 13.864761083389803, 0.4271134930902072, 6.406702396353108, 8.509414977720281, 8.509414977720281, 14.718988069570218, 14.456148996899321, 10.447853138668146, 16.65742623051808, 8.509414977720281, 0.5256781453417935, 12.25487176328056, 6.078153555514487, 14.718988069570218, 6.669541469024004], \"xaxis\": \"x\", \"yaxis\": \"y\"}],                        {\"barmode\": \"relative\", \"legend\": {\"title\": {\"text\": \"variable\"}, \"tracegroupgap\": 0}, \"margin\": {\"t\": 60}, \"template\": {\"data\": {\"bar\": [{\"error_x\": {\"color\": \"#2a3f5f\"}, \"error_y\": {\"color\": \"#2a3f5f\"}, \"marker\": {\"line\": {\"color\": \"#E5ECF6\", \"width\": 0.5}}, \"type\": \"bar\"}], \"barpolar\": [{\"marker\": {\"line\": {\"color\": \"#E5ECF6\", \"width\": 0.5}}, \"type\": \"barpolar\"}], \"carpet\": [{\"aaxis\": {\"endlinecolor\": \"#2a3f5f\", \"gridcolor\": \"white\", \"linecolor\": \"white\", \"minorgridcolor\": \"white\", \"startlinecolor\": \"#2a3f5f\"}, \"baxis\": {\"endlinecolor\": \"#2a3f5f\", \"gridcolor\": \"white\", \"linecolor\": \"white\", \"minorgridcolor\": \"white\", \"startlinecolor\": \"#2a3f5f\"}, \"type\": \"carpet\"}], \"choropleth\": [{\"colorbar\": {\"outlinewidth\": 0, \"ticks\": \"\"}, \"type\": \"choropleth\"}], \"contour\": [{\"colorbar\": {\"outlinewidth\": 0, \"ticks\": \"\"}, \"colorscale\": [[0.0, \"#0d0887\"], [0.1111111111111111, \"#46039f\"], [0.2222222222222222, \"#7201a8\"], [0.3333333333333333, \"#9c179e\"], [0.4444444444444444, \"#bd3786\"], [0.5555555555555556, \"#d8576b\"], [0.6666666666666666, \"#ed7953\"], [0.7777777777777778, \"#fb9f3a\"], [0.8888888888888888, \"#fdca26\"], [1.0, \"#f0f921\"]], \"type\": \"contour\"}], \"contourcarpet\": [{\"colorbar\": {\"outlinewidth\": 0, \"ticks\": \"\"}, \"type\": \"contourcarpet\"}], \"heatmap\": [{\"colorbar\": {\"outlinewidth\": 0, \"ticks\": \"\"}, \"colorscale\": [[0.0, \"#0d0887\"], [0.1111111111111111, \"#46039f\"], [0.2222222222222222, \"#7201a8\"], [0.3333333333333333, \"#9c179e\"], [0.4444444444444444, \"#bd3786\"], [0.5555555555555556, \"#d8576b\"], [0.6666666666666666, \"#ed7953\"], [0.7777777777777778, \"#fb9f3a\"], [0.8888888888888888, \"#fdca26\"], [1.0, \"#f0f921\"]], \"type\": \"heatmap\"}], \"heatmapgl\": [{\"colorbar\": {\"outlinewidth\": 0, \"ticks\": \"\"}, \"colorscale\": [[0.0, \"#0d0887\"], [0.1111111111111111, \"#46039f\"], [0.2222222222222222, \"#7201a8\"], [0.3333333333333333, \"#9c179e\"], [0.4444444444444444, \"#bd3786\"], [0.5555555555555556, \"#d8576b\"], [0.6666666666666666, \"#ed7953\"], [0.7777777777777778, \"#fb9f3a\"], [0.8888888888888888, \"#fdca26\"], [1.0, \"#f0f921\"]], \"type\": \"heatmapgl\"}], \"histogram\": [{\"marker\": {\"colorbar\": {\"outlinewidth\": 0, \"ticks\": \"\"}}, \"type\": \"histogram\"}], \"histogram2d\": [{\"colorbar\": {\"outlinewidth\": 0, \"ticks\": \"\"}, \"colorscale\": [[0.0, \"#0d0887\"], [0.1111111111111111, \"#46039f\"], [0.2222222222222222, \"#7201a8\"], [0.3333333333333333, \"#9c179e\"], [0.4444444444444444, \"#bd3786\"], [0.5555555555555556, \"#d8576b\"], [0.6666666666666666, \"#ed7953\"], [0.7777777777777778, \"#fb9f3a\"], [0.8888888888888888, \"#fdca26\"], [1.0, \"#f0f921\"]], \"type\": \"histogram2d\"}], \"histogram2dcontour\": [{\"colorbar\": {\"outlinewidth\": 0, \"ticks\": \"\"}, \"colorscale\": [[0.0, \"#0d0887\"], [0.1111111111111111, \"#46039f\"], [0.2222222222222222, \"#7201a8\"], [0.3333333333333333, \"#9c179e\"], [0.4444444444444444, \"#bd3786\"], [0.5555555555555556, \"#d8576b\"], [0.6666666666666666, \"#ed7953\"], [0.7777777777777778, \"#fb9f3a\"], [0.8888888888888888, \"#fdca26\"], [1.0, \"#f0f921\"]], \"type\": \"histogram2dcontour\"}], \"mesh3d\": [{\"colorbar\": {\"outlinewidth\": 0, \"ticks\": \"\"}, \"type\": \"mesh3d\"}], \"parcoords\": [{\"line\": {\"colorbar\": {\"outlinewidth\": 0, \"ticks\": \"\"}}, \"type\": \"parcoords\"}], \"pie\": [{\"automargin\": true, \"type\": \"pie\"}], \"scatter\": [{\"marker\": {\"colorbar\": {\"outlinewidth\": 0, \"ticks\": \"\"}}, \"type\": \"scatter\"}], \"scatter3d\": [{\"line\": {\"colorbar\": {\"outlinewidth\": 0, \"ticks\": \"\"}}, \"marker\": {\"colorbar\": {\"outlinewidth\": 0, \"ticks\": \"\"}}, \"type\": \"scatter3d\"}], \"scattercarpet\": [{\"marker\": {\"colorbar\": {\"outlinewidth\": 0, \"ticks\": \"\"}}, \"type\": \"scattercarpet\"}], \"scattergeo\": [{\"marker\": {\"colorbar\": {\"outlinewidth\": 0, \"ticks\": \"\"}}, \"type\": \"scattergeo\"}], \"scattergl\": [{\"marker\": {\"colorbar\": {\"outlinewidth\": 0, \"ticks\": \"\"}}, \"type\": \"scattergl\"}], \"scattermapbox\": [{\"marker\": {\"colorbar\": {\"outlinewidth\": 0, \"ticks\": \"\"}}, \"type\": \"scattermapbox\"}], \"scatterpolar\": [{\"marker\": {\"colorbar\": {\"outlinewidth\": 0, \"ticks\": \"\"}}, \"type\": \"scatterpolar\"}], \"scatterpolargl\": [{\"marker\": {\"colorbar\": {\"outlinewidth\": 0, \"ticks\": \"\"}}, \"type\": \"scatterpolargl\"}], \"scatterternary\": [{\"marker\": {\"colorbar\": {\"outlinewidth\": 0, \"ticks\": \"\"}}, \"type\": \"scatterternary\"}], \"surface\": [{\"colorbar\": {\"outlinewidth\": 0, \"ticks\": \"\"}, \"colorscale\": [[0.0, \"#0d0887\"], [0.1111111111111111, \"#46039f\"], [0.2222222222222222, \"#7201a8\"], [0.3333333333333333, \"#9c179e\"], [0.4444444444444444, \"#bd3786\"], [0.5555555555555556, \"#d8576b\"], [0.6666666666666666, \"#ed7953\"], [0.7777777777777778, \"#fb9f3a\"], [0.8888888888888888, \"#fdca26\"], [1.0, \"#f0f921\"]], \"type\": \"surface\"}], \"table\": [{\"cells\": {\"fill\": {\"color\": \"#EBF0F8\"}, \"line\": {\"color\": \"white\"}}, \"header\": {\"fill\": {\"color\": \"#C8D4E3\"}, \"line\": {\"color\": \"white\"}}, \"type\": \"table\"}]}, \"layout\": {\"annotationdefaults\": {\"arrowcolor\": \"#2a3f5f\", \"arrowhead\": 0, \"arrowwidth\": 1}, \"autotypenumbers\": \"strict\", \"coloraxis\": {\"colorbar\": {\"outlinewidth\": 0, \"ticks\": \"\"}}, \"colorscale\": {\"diverging\": [[0, \"#8e0152\"], [0.1, \"#c51b7d\"], [0.2, \"#de77ae\"], [0.3, \"#f1b6da\"], [0.4, \"#fde0ef\"], [0.5, \"#f7f7f7\"], [0.6, \"#e6f5d0\"], [0.7, \"#b8e186\"], [0.8, \"#7fbc41\"], [0.9, \"#4d9221\"], [1, \"#276419\"]], \"sequential\": [[0.0, \"#0d0887\"], [0.1111111111111111, \"#46039f\"], [0.2222222222222222, \"#7201a8\"], [0.3333333333333333, \"#9c179e\"], [0.4444444444444444, \"#bd3786\"], [0.5555555555555556, \"#d8576b\"], [0.6666666666666666, \"#ed7953\"], [0.7777777777777778, \"#fb9f3a\"], [0.8888888888888888, \"#fdca26\"], [1.0, \"#f0f921\"]], \"sequentialminus\": [[0.0, \"#0d0887\"], [0.1111111111111111, \"#46039f\"], [0.2222222222222222, \"#7201a8\"], [0.3333333333333333, \"#9c179e\"], [0.4444444444444444, \"#bd3786\"], [0.5555555555555556, \"#d8576b\"], [0.6666666666666666, \"#ed7953\"], [0.7777777777777778, \"#fb9f3a\"], [0.8888888888888888, \"#fdca26\"], [1.0, \"#f0f921\"]]}, \"colorway\": [\"#636efa\", \"#EF553B\", \"#00cc96\", \"#ab63fa\", \"#FFA15A\", \"#19d3f3\", \"#FF6692\", \"#B6E880\", \"#FF97FF\", \"#FECB52\"], \"font\": {\"color\": \"#2a3f5f\"}, \"geo\": {\"bgcolor\": \"white\", \"lakecolor\": \"white\", \"landcolor\": \"#E5ECF6\", \"showlakes\": true, \"showland\": true, \"subunitcolor\": \"white\"}, \"hoverlabel\": {\"align\": \"left\"}, \"hovermode\": \"closest\", \"mapbox\": {\"style\": \"light\"}, \"paper_bgcolor\": \"white\", \"plot_bgcolor\": \"#E5ECF6\", \"polar\": {\"angularaxis\": {\"gridcolor\": \"white\", \"linecolor\": \"white\", \"ticks\": \"\"}, \"bgcolor\": \"#E5ECF6\", \"radialaxis\": {\"gridcolor\": \"white\", \"linecolor\": \"white\", \"ticks\": \"\"}}, \"scene\": {\"xaxis\": {\"backgroundcolor\": \"#E5ECF6\", \"gridcolor\": \"white\", \"gridwidth\": 2, \"linecolor\": \"white\", \"showbackground\": true, \"ticks\": \"\", \"zerolinecolor\": \"white\"}, \"yaxis\": {\"backgroundcolor\": \"#E5ECF6\", \"gridcolor\": \"white\", \"gridwidth\": 2, \"linecolor\": \"white\", \"showbackground\": true, \"ticks\": \"\", \"zerolinecolor\": \"white\"}, \"zaxis\": {\"backgroundcolor\": \"#E5ECF6\", \"gridcolor\": \"white\", \"gridwidth\": 2, \"linecolor\": \"white\", \"showbackground\": true, \"ticks\": \"\", \"zerolinecolor\": \"white\"}}, \"shapedefaults\": {\"line\": {\"color\": \"#2a3f5f\"}}, \"ternary\": {\"aaxis\": {\"gridcolor\": \"white\", \"linecolor\": \"white\", \"ticks\": \"\"}, \"baxis\": {\"gridcolor\": \"white\", \"linecolor\": \"white\", \"ticks\": \"\"}, \"bgcolor\": \"#E5ECF6\", \"caxis\": {\"gridcolor\": \"white\", \"linecolor\": \"white\", \"ticks\": \"\"}}, \"title\": {\"x\": 0.05}, \"xaxis\": {\"automargin\": true, \"gridcolor\": \"white\", \"linecolor\": \"white\", \"ticks\": \"\", \"title\": {\"standoff\": 15}, \"zerolinecolor\": \"white\", \"zerolinewidth\": 2}, \"yaxis\": {\"automargin\": true, \"gridcolor\": \"white\", \"linecolor\": \"white\", \"ticks\": \"\", \"title\": {\"standoff\": 15}, \"zerolinecolor\": \"white\", \"zerolinewidth\": 2}}}, \"xaxis\": {\"anchor\": \"y\", \"domain\": [0.0, 1.0], \"title\": {\"text\": \"time (months)\"}}, \"yaxis\": {\"anchor\": \"x\", \"domain\": [0.0, 1.0], \"title\": {\"text\": \"count\"}}},                        {\"responsive\": true}                    ).then(function(){\n",
       "                            \n",
       "var gd = document.getElementById('27f8ec55-0526-4593-8f23-b0b2bdd8389e');\n",
       "var x = new MutationObserver(function (mutations, observer) {{\n",
       "        var display = window.getComputedStyle(gd).display;\n",
       "        if (!display || display === 'none') {{\n",
       "            console.log([gd, 'removed!']);\n",
       "            Plotly.purge(gd);\n",
       "            observer.disconnect();\n",
       "        }}\n",
       "}});\n",
       "\n",
       "// Listen for the removal of the full notebook cells\n",
       "var notebookContainer = gd.closest('#notebook-container');\n",
       "if (notebookContainer) {{\n",
       "    x.observe(notebookContainer, {childList: true});\n",
       "}}\n",
       "\n",
       "// Listen for the clearing of the current output cell\n",
       "var outputEl = gd.closest('.output');\n",
       "if (outputEl) {{\n",
       "    x.observe(outputEl, {childList: true});\n",
       "}}\n",
       "\n",
       "                        })                };                });            </script>        </div>"
      ]
     },
     "metadata": {},
     "output_type": "display_data"
    }
   ],
   "source": [
    "def find_transition_a_to_b(state, start, end):\n",
    "    res = []\n",
    "    i = 0\n",
    "    while i < len(state)-1:\n",
    "        if state[i] == start:\n",
    "            if state[i+1] == end:\n",
    "                #res.append(i)\n",
    "                res.append(i+1)\n",
    "                i += 1\n",
    "        i += 1\n",
    "    return res\n",
    "\n",
    "# distribution of the time when transition 1-2 happens\n",
    "time_transition_1_to_2 = data.iloc[find_transition_a_to_b(data.state,1,2),:].months\n",
    "#px.histogram(time_transition_1_to_2,labels={'value':'time (months)'},title = \"Transition from Healthy to WP\")\n",
    "px.histogram(time_transition_1_to_2,labels={'value':'time (months)'})\n",
    "# distribution of the time when transition 1-3 happens\n",
    "time_transition_1_to_3 = data.iloc[find_transition_a_to_b(data.state,1,3),:].months\n",
    "#px.histogram(time_transition_1_to_3,labels={'value':'time (months)'},title = \"Transition from Healthy to PM/DEAD\")\n",
    "px.histogram(time_transition_1_to_3,labels={'value':'time (months)'})\n",
    "\n",
    "# # distribution of the time when transition 2-1 happens\n",
    "# time_transition_2_to_1 = data.iloc[find_transition_a_to_b(data.state,2,1),:].months\n",
    "# px.histogram(time_transition_2_to_1)\n",
    "\n",
    "                "
   ]
  },
  {
   "cell_type": "markdown",
   "id": "dynamic-empty",
   "metadata": {},
   "source": [
    "#### Save the cleaned version of the dataset"
   ]
  },
  {
   "cell_type": "code",
   "execution_count": 17,
   "id": "infrared-pakistan",
   "metadata": {},
   "outputs": [],
   "source": [
    "data = data.reset_index(drop=True)\n",
    "data.to_csv(\"data_cleaned.csv\")"
   ]
  },
  {
   "cell_type": "code",
   "execution_count": 18,
   "id": "modified-installation",
   "metadata": {},
   "outputs": [
    {
     "name": "stdout",
     "output_type": "stream",
     "text": [
      "number of species is 8\n",
      "they are  ['SBOU' 'DSTO' 'DCLI' 'PSTR' 'MCAV' 'MMEA' 'CNAT' 'MDEC']\n",
      "number of corals include in the study is 378\n",
      "total number of obs is 9259\n"
     ]
    }
   ],
   "source": [
    "print(\"number of species is %d\"%len(data.species.unique()))\n",
    "print(\"they are \",data.species.unique())\n",
    "print(\"number of corals include in the study is %d\"%len(data.coral.unique()))\n",
    "print(\"total number of obs is %d\"%data.shape[0])"
   ]
  },
  {
   "cell_type": "markdown",
   "id": "attempted-tuning",
   "metadata": {},
   "source": [
    "#### If it does not converge, here is some tricks to simplify the data"
   ]
  },
  {
   "cell_type": "code",
   "execution_count": 19,
   "id": "going-spell",
   "metadata": {},
   "outputs": [],
   "source": [
    "# first = data.duplicated(subset = [\"coral\",\"state\"],keep ='first')\n",
    "# last = data.duplicated(subset = [\"coral\",\"state\"],keep ='last')\n",
    "# data_simplified = data[(~first) | (~last)]\n",
    "\n",
    "\n"
   ]
  },
  {
   "cell_type": "code",
   "execution_count": 20,
   "id": "fabulous-praise",
   "metadata": {},
   "outputs": [],
   "source": [
    "# data_simplified.to_csv(\"data_cleaned_simplified.csv\")"
   ]
  },
  {
   "cell_type": "code",
   "execution_count": null,
   "id": "amended-pledge",
   "metadata": {},
   "outputs": [],
   "source": []
  }
 ],
 "metadata": {
  "kernelspec": {
   "display_name": "Python 3",
   "language": "python",
   "name": "python3"
  },
  "language_info": {
   "codemirror_mode": {
    "name": "ipython",
    "version": 3
   },
   "file_extension": ".py",
   "mimetype": "text/x-python",
   "name": "python",
   "nbconvert_exporter": "python",
   "pygments_lexer": "ipython3",
   "version": "3.7.3"
  },
  "pycharm": {
   "stem_cell": {
    "cell_type": "raw",
    "metadata": {
     "collapsed": false
    },
    "source": []
   }
  }
 },
 "nbformat": 4,
 "nbformat_minor": 5
}
